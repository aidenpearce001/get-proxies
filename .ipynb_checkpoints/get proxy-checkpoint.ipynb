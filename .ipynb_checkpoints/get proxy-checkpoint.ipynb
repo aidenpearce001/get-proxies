{
 "cells": [
  {
   "cell_type": "code",
   "execution_count": 1,
   "metadata": {},
   "outputs": [],
   "source": [
    "import requests\n",
    "import json\n",
    "from bs4 import BeautifulSoup\n",
    "import re\n",
    "import threading\n",
    "import time\n",
    "import sys\n",
    "import ssl"
   ]
  },
  {
   "cell_type": "code",
   "execution_count": 2,
   "metadata": {},
   "outputs": [],
   "source": [
    "SSL = 'https://www.sslproxies.org/'\n",
    "FREE_PROXY = 'https://free-proxy-list.net/'\n",
    "SPYS_ME = \"https://spys.one/en/socks-proxy-list/\"\n",
    "PROXYSCRAPE = 'https://api.proxyscrape.com/?request=getproxies&proxytype=all&country=us&ssl=all&anonymity=all'\n",
    "PROXYNOVA = 'https://www.proxynova.com/proxy-server-list/'\n",
    "PROXYLIST_DOWNLOAD_HTTP = 'https://www.proxy-list.download/HTTP'\n",
    "PROXYLIST_DOWNLOAD_HTTPS = 'https://www.proxy-list.download/HTTPS'\n",
    "PROXYLIST_DOWNLOAD_SOCKS4 = 'https://www.proxy-list.download/SOCKS4'\n",
    "PROXYLIST_DOWNLOAD_SOCKS5 = 'https://www.proxy-list.download/SOCKS5'\n",
    "proxy_cz = \"http://free-proxy.cz/en/proxylist/country/all/socks5/ping/all/2\"\n",
    "hidemy_socks5 = \"https://hidemy.name/en/proxy-list/?type=5&start={}\"\n",
    "hidemy_socks4 = \"https://hidemy.name/en/proxy-list/?type=5&start={}\"\n",
    "proxy_scan = \"https://www.proxyscan.io/download?type={}\""
   ]
  },
  {
   "cell_type": "code",
   "execution_count": 30,
   "metadata": {},
   "outputs": [
    {
     "data": {
      "text/plain": [
       "['103.13.132.206',\n",
       " '55443',\n",
       " 'BD',\n",
       " 'Bangladesh',\n",
       " 'anonymous',\n",
       " 'no',\n",
       " 'yes',\n",
       " '2 minutes ago']"
      ]
     },
     "execution_count": 30,
     "metadata": {},
     "output_type": "execute_result"
    }
   ],
   "source": [
    "proxy_list[0]"
   ]
  },
  {
   "cell_type": "code",
   "execution_count": 31,
   "metadata": {},
   "outputs": [
    {
     "data": {
      "text/plain": [
       "False"
      ]
     },
     "execution_count": 31,
     "metadata": {},
     "output_type": "execute_result"
    }
   ],
   "source": [
    "(\"anonymous\",\"BD\") in proxy_list[0]"
   ]
  },
  {
   "cell_type": "code",
   "execution_count": 110,
   "metadata": {},
   "outputs": [],
   "source": [
    "def free_proxy(region):\n",
    "    proxy_list = []\n",
    "    \n",
    "    for i in\n",
    "    page  = requests.get(FREE_PROXY)\n",
    "    soup  = BeautifulSoup(page.content, 'html.parser')\n",
    "    table =  soup.find(\"table\", {\"id\": \"proxylisttable\"})\n",
    "    table_body = table.find('tbody')   \n",
    "    \n",
    "    for row in table_body:\n",
    "        cols = row.find_all('td')\n",
    "        cols = [ele.text.strip() for ele in cols]\n",
    "        if region == \"ALL\":    \n",
    "            proxy_list.append([ele for ele in cols if ele])\n",
    "        else:\n",
    "            proxy_list.append([ele for ele in cols if cols[2] == region])\n",
    "  \n",
    "    proxy_list = [x for x in proxy_list if x != []]\n",
    "    proxy_list = [x[0]+\":\"+x[1] for x in proxy_list]\n",
    "    \n",
    "    return proxy_list"
   ]
  },
  {
   "cell_type": "code",
   "execution_count": 108,
   "metadata": {},
   "outputs": [],
   "source": [
    "def ssl_proxy(region):\n",
    "    proxy_list = []\n",
    "    \n",
    "    page  = requests.get(SSL)\n",
    "    soup  = BeautifulSoup(page.content, 'html.parser')\n",
    "    table =  soup.find(\"table\", {\"id\": \"proxylisttable\"})\n",
    "    table_body = table.find('tbody')   \n",
    "    \n",
    "    for row in table_body:\n",
    "        cols = row.find_all('td')\n",
    "        cols = [ele.text.strip() for ele in cols]\n",
    "        if region == \"ALL\":    \n",
    "            proxy_list.append([ele for ele in cols if ele])\n",
    "        else:\n",
    "            proxy_list.append([ele for ele in cols if cols[2] == region])\n",
    "  \n",
    "    proxy_list = [x for x in proxy_list if x != []]\n",
    "    proxy_list = [x[0]+\":\"+x[1] for x in proxy_list]\n",
    "    \n",
    "    return proxy_list"
   ]
  },
  {
   "cell_type": "code",
   "execution_count": 111,
   "metadata": {},
   "outputs": [
    {
     "data": {
      "text/plain": [
       "['54.211.23.200:80',\n",
       " '89.187.177.90:80',\n",
       " '162.214.92.202:80',\n",
       " '13.92.119.142:80',\n",
       " '52.146.35.37:80',\n",
       " '159.65.171.69:80',\n",
       " '40.122.215.129:80',\n",
       " '35.239.155.190:80',\n",
       " '138.91.159.185:80',\n",
       " '69.63.170.74:3128',\n",
       " '185.151.51.115:80',\n",
       " '206.189.181.21:80',\n",
       " '97.73.15.22:87',\n",
       " '208.80.28.208:8080',\n",
       " '69.251.6.180:80',\n",
       " '34.94.174.195:8080',\n",
       " '34.206.72.140:80',\n",
       " '89.187.177.97:80',\n",
       " '89.187.177.95:80',\n",
       " '89.187.177.103:80',\n",
       " '89.187.177.104:80',\n",
       " '89.187.177.100:80',\n",
       " '34.66.105.4:8080',\n",
       " '104.196.34.208:8080',\n",
       " '24.172.34.114:49920',\n",
       " '162.127.140.112:8080',\n",
       " '89.187.177.91:80',\n",
       " '162.223.89.220:8080',\n",
       " '45.82.245.34:3128',\n",
       " '193.122.144.192:80',\n",
       " '89.187.177.86:80',\n",
       " '130.68.124.40:80',\n",
       " '89.187.177.99:80',\n",
       " '209.239.122.200:443',\n",
       " '89.187.177.87:80',\n",
       " '68.94.189.60:80']"
      ]
     },
     "execution_count": 111,
     "metadata": {},
     "output_type": "execute_result"
    }
   ],
   "source": [
    "data = free_proxy(\"US\")\n",
    "data"
   ]
  },
  {
   "cell_type": "code",
   "execution_count": 185,
   "metadata": {},
   "outputs": [
    {
     "data": {
      "text/plain": [
       "['p6r8=7968;c3k1=8236;t0h8=1378;g7v2=1093;s9q7=9841;x4i9=8763;n4l2=3039;b2b2=6969;z6o5=6583;a1x4=5692;v2p6k1=0^p6r8;z6t0g7=1^c3k1;l2n4m3=2^t0h8;p6s9u1=3^g7v2;i9x4j0=4^s9q7;x4j0o5=5^x4i9;h8q7h8=6^n4l2;y5y5b2=7^b2b2;g7a1n4=8^z6o5;j0u1z6=9^a1x4']"
      ]
     },
     "execution_count": 185,
     "metadata": {},
     "output_type": "execute_result"
    }
   ],
   "source": [
    "re.findall('<script type=\"text/javascript\">(.*);</script>',str(soup.find('script', type=\"text/javascript\")))"
   ]
  },
  {
   "cell_type": "code",
   "execution_count": 189,
   "metadata": {
    "scrolled": true
   },
   "outputs": [],
   "source": [
    "method = re.findall('<script type=\"text/javascript\">(.*);</script>',str(soup.find('script', type=\"text/javascript\")))[0].split(\";\")"
   ]
  },
  {
   "cell_type": "code",
   "execution_count": 190,
   "metadata": {},
   "outputs": [],
   "source": [
    "mapping_port = {}\n",
    "\n",
    "for i in method[:10]:\n",
    "    mapping_port[i.split(\"=\")[0]] = int(i.split(\"=\")[1])\n",
    "    \n",
    "for i in method[10:]:\n",
    "    ops = i.split(\"=\")[1].split(\"^\")\n",
    "    mapping_port[i.split(\"=\")[0]] = int(ops[0]) ^ mapping_port[ops[1]]"
   ]
  },
  {
   "cell_type": "code",
   "execution_count": 191,
   "metadata": {},
   "outputs": [
    {
     "data": {
      "text/plain": [
       "{'p6r8': 7968,\n",
       " 'c3k1': 8236,\n",
       " 't0h8': 1378,\n",
       " 'g7v2': 1093,\n",
       " 's9q7': 9841,\n",
       " 'x4i9': 8763,\n",
       " 'n4l2': 3039,\n",
       " 'b2b2': 6969,\n",
       " 'z6o5': 6583,\n",
       " 'a1x4': 5692,\n",
       " 'v2p6k1': 7968,\n",
       " 'z6t0g7': 8237,\n",
       " 'l2n4m3': 1376,\n",
       " 'p6s9u1': 1094,\n",
       " 'i9x4j0': 9845,\n",
       " 'x4j0o5': 8766,\n",
       " 'h8q7h8': 3033,\n",
       " 'y5y5b2': 6974,\n",
       " 'g7a1n4': 6591,\n",
       " 'j0u1z6': 5685}"
      ]
     },
     "execution_count": 191,
     "metadata": {},
     "output_type": "execute_result"
    }
   ],
   "source": [
    "mapping_port"
   ]
  },
  {
   "cell_type": "code",
   "execution_count": 3,
   "metadata": {},
   "outputs": [],
   "source": [
    "def port_porcess(port_char):\n",
    "\n",
    "    port = \"\"\n",
    "    \n",
    "    for i in port_char.split(\"+\"):\n",
    "        char = re.sub(r'[^\\w]', ' ',i).split(\" \")\n",
    "\n",
    "        port = port + str(mapping_port[char[1]] ^ mapping_port[char[2]])\n",
    "        \n",
    "    return port"
   ]
  },
  {
   "cell_type": "code",
   "execution_count": 4,
   "metadata": {},
   "outputs": [
    {
     "name": "stdout",
     "output_type": "stream",
     "text": [
      "xx0=f17ac659d013960c1490035e2ed5844f&xpp=5&xf1=0&xf2=0&xf4=0&xf5=2\n"
     ]
    }
   ],
   "source": [
    "socks_list = []\n",
    "mapping_port = {}\n",
    "\n",
    "def SPYS_ME_SOCKS():\n",
    "    \n",
    "    headers = {\n",
    "      'Connection': 'keep-alive',\n",
    "      'Pragma': 'no-cache',\n",
    "      'Cache-Control': 'no-cache',\n",
    "      'sec-ch-ua': '\" Not;A Brand\";v=\"99\", \"Google Chrome\";v=\"91\", \"Chromium\";v=\"91\"',\n",
    "      'sec-ch-ua-mobile': '?0',\n",
    "      'Upgrade-Insecure-Requests': '1',\n",
    "      'User-Agent': 'Mozilla/5.0 (Windows NT 10.0; Win64; x64) AppleWebKit/537.36 (KHTML, like Gecko) Chrome/91.0.4472.77 Safari/537.36',\n",
    "      'Origin': 'https://spys.one',\n",
    "      'Content-Type': 'application/x-www-form-urlencoded',\n",
    "      'Accept': 'text/html,application/xhtml+xml,application/xml;q=0.9,image/avif,image/webp,image/apng,*/*;q=0.8,application/signed-exchange;v=b3;q=0.9',\n",
    "      'Sec-Fetch-Site': 'same-origin',\n",
    "      'Sec-Fetch-Mode': 'navigate',\n",
    "      'Sec-Fetch-User': '?1',\n",
    "      'Sec-Fetch-Dest': 'document',\n",
    "      'Referer': 'https://spys.one/en/socks-proxy-list/',\n",
    "      'Accept-Language': 'vi,en-US;q=0.9,en;q=0.8,vi-VN;q=0.7'\n",
    "    }\n",
    "\n",
    "    preprocess = requests.request(\"POST\", SPYS_ME, headers=headers)\n",
    "    presoup = BeautifulSoup(preprocess.text,\"html.parser\")\n",
    "    payload = \"xx0=\"+presoup.find(attrs={\"name\" : \"xx0\"})['value'] + \"&xpp=5&xf1=0&xf2=0&xf4=0&xf5=2\"\n",
    "    print(payload)\n",
    "    \n",
    "    spys = requests.request(\"POST\", SPYS_ME, headers=headers, data=payload)\n",
    "    soup = BeautifulSoup(spys.text,\"html.parser\")\n",
    "    \n",
    "    method = re.findall('<script type=\"text/javascript\">(.*);</script>',str(soup.find('script', type=\"text/javascript\")))[0].split(\";\")\n",
    "\n",
    "    for i in method[:10]:\n",
    "        mapping_port[i.split(\"=\")[0]] = int(i.split(\"=\")[1])\n",
    "\n",
    "    for i in method[10:]:\n",
    "        ops = i.split(\"=\")[1].split(\"^\")\n",
    "        mapping_port[i.split(\"=\")[0]] = int(ops[0]) ^ mapping_port[ops[1]]\n",
    "\n",
    "    for tr in soup.findAll(\"tr\",{\"class\":\"spy1xx\"}):\n",
    "        ip = tr.find('font').text\n",
    "        raw_js = tr.find('script')\n",
    "        port_char = re.findall(r'font class=spy2>:<\\\\/font>\"\\+(.*)\\)</script>',str(raw_js))[0]\n",
    "\n",
    "        socks_list.append(ip+\":\"+port_porcess(port_char))\n",
    "\n",
    "    for tr in soup.findAll(\"tr\",{\"class\":\"spy1x\"}):\n",
    "        try:\n",
    "            ip = tr.find('font').text\n",
    "            raw_js = tr.find('script')\n",
    "            port_char = re.findall(r'font class=spy2>:<\\\\/font>\"\\+(.*)\\)</script>',str(raw_js))[0]\n",
    "\n",
    "            socks_list.append(ip+\":\"+port_porcess(port_char))\n",
    "        except:\n",
    "            continue\n",
    "\n",
    "SPYS_ME_SOCKS()"
   ]
  },
  {
   "cell_type": "code",
   "execution_count": 5,
   "metadata": {},
   "outputs": [
    {
     "data": {
      "text/plain": [
       "500"
      ]
     },
     "execution_count": 5,
     "metadata": {},
     "output_type": "execute_result"
    }
   ],
   "source": [
    "len(set(socks_list))"
   ]
  },
  {
   "cell_type": "code",
   "execution_count": 13,
   "metadata": {},
   "outputs": [],
   "source": [
    "def hidemy_socks(mode):\n",
    "    start = 0\n",
    "    \n",
    "    hidemy_headers = {\n",
    "      'authority': 'hidemy.name',\n",
    "      'pragma': 'no-cache',\n",
    "      'cache-control': 'no-cache',\n",
    "      'sec-ch-ua': '\" Not;A Brand\";v=\"99\", \"Google Chrome\";v=\"91\", \"Chromium\";v=\"91\"',\n",
    "      'sec-ch-ua-mobile': '?0',\n",
    "      'upgrade-insecure-requests': '1',\n",
    "      'user-agent': 'Mozilla/5.0 (Windows NT 10.0; Win64; x64) AppleWebKit/537.36 (KHTML, like Gecko) Chrome/91.0.4472.77 Safari/537.36',\n",
    "      'accept': 'text/html,application/xhtml+xml,application/xml;q=0.9,image/avif,image/webp,image/apng,*/*;q=0.8,application/signed-exchange;v=b3;q=0.9',\n",
    "      'sec-fetch-site': 'same-origin',\n",
    "      'sec-fetch-mode': 'navigate',\n",
    "      'sec-fetch-user': '?1',\n",
    "      'sec-fetch-dest': 'document',\n",
    "      'referer': 'https://hidemy.name/en/proxy-list/?type=5&start=64',\n",
    "      'accept-language': 'vi,en-US;q=0.9,en;q=0.8,vi-VN;q=0.7'\n",
    "    }\n",
    "\n",
    "    print(mode)\n",
    "    if mode == 'socks5':\n",
    "        hidemy_url = hidemy_socks5.format(start)\n",
    "    elif mode == 'socks4':\n",
    "        hidemy_url = hidemy_socks4.format(start)\n",
    "      \n",
    "    print(hidemy_url)\n",
    "    res = requests.get(hidemy_url,headers=hidemy_headers)\n",
    "    soup = BeautifulSoup(res.content,\"html.parser\")\n",
    "    hidemy_pages = soup.find('div',{'class':'pagination'}).findAll('a')\n",
    "        \n",
    "    for page in range(len(hidemy_pages)-1):\n",
    "        res = requests.get(hidemy_url,headers=hidemy_headers)\n",
    "        soup = BeautifulSoup(res.content,\"html.parser\")\n",
    "        if soup.find('tbody').text == ' ':\n",
    "            break\n",
    "        else:\n",
    "            socks = soup.find('tbody').findAll('tr')\n",
    "            for sock in socks:\n",
    "                \n",
    "                socks_list.append(sock.findAll('td')[0].text+\":\"+sock.findAll('td')[1].text)\n",
    "    \n",
    "        start +=64\n",
    "  "
   ]
  },
  {
   "cell_type": "code",
   "execution_count": 14,
   "metadata": {},
   "outputs": [
    {
     "name": "stdout",
     "output_type": "stream",
     "text": [
      "socks5\n",
      "https://hidemy.name/en/proxy-list/?type=5&start=0\n"
     ]
    }
   ],
   "source": [
    "hidemy_socks(mode=\"socks5\")"
   ]
  },
  {
   "cell_type": "code",
   "execution_count": 15,
   "metadata": {},
   "outputs": [],
   "source": [
    "def proxyscan_socks(mode):\n",
    "\n",
    "    r = requests.get(proxy_scan.format(mode), allow_redirects=True)\n",
    "    open(mode+'.txt', 'wb').write(r.content)\n",
    "    \n",
    "    \n",
    "    with open(mode+'.txt','r+') as f:\n",
    "        for _ in f:\n",
    "            socks_list.append(_.rstrip())"
   ]
  },
  {
   "cell_type": "code",
   "execution_count": 16,
   "metadata": {},
   "outputs": [],
   "source": [
    "proxyscan_socks('socks5')"
   ]
  },
  {
   "cell_type": "code",
   "execution_count": 17,
   "metadata": {},
   "outputs": [
    {
     "data": {
      "text/plain": [
       "583"
      ]
     },
     "execution_count": 17,
     "metadata": {},
     "output_type": "execute_result"
    }
   ],
   "source": [
    "len(socks_list)"
   ]
  },
  {
   "cell_type": "code",
   "execution_count": 7,
   "metadata": {},
   "outputs": [],
   "source": [
    "def checking(lines,socks_type,ms,rlock,):\n",
    "    global nums\n",
    "    global proxies\n",
    "    proxy = lines.strip().split(\":\")\n",
    "    if len(proxy) != 2:\n",
    "        rlock.acquire()\n",
    "        proxies.remove(lines)\n",
    "        rlock.release()\n",
    "        return\n",
    "    err = 0\n",
    "    while True:\n",
    "        if err >= 3:\n",
    "            rlock.acquire()\n",
    "            socks_list.remove(lines)\n",
    "            rlock.release()\n",
    "            break\n",
    "        try:\n",
    "            s = socks.socksocket()\n",
    "            if socks_type == 4:\n",
    "                s.set_proxy(socks.SOCKS4, str(proxy[0]), int(proxy[1]))\n",
    "            if socks_type == 5:\n",
    "                s.set_proxy(socks.SOCKS5, str(proxy[0]), int(proxy[1]))\n",
    "            s.settimeout(ms)\n",
    "            s.connect((str(target), int(port)))\n",
    "            if protocol == \"https\":\n",
    "                ctx = ssl.SSLContext()\n",
    "                s = ctx.wrap_socket(s,server_hostname=target)\n",
    "            sent = s.send(str.encode(\"GET / HTTP/1.1\\r\\n\\r\\n\"))\n",
    "            if not sent:\n",
    "                err += 1\n",
    "            s.close()\n",
    "            break\n",
    "        except:\n",
    "            err +=1\n",
    "    nums += 1"
   ]
  },
  {
   "cell_type": "code",
   "execution_count": 10,
   "metadata": {},
   "outputs": [],
   "source": [
    "nums = 0\n",
    "\n",
    "def check_socks(ms):\n",
    "    global nums\n",
    "    thread_list=[]\n",
    "    rlock = threading.RLock()\n",
    "    choice = \"5\"\n",
    "    for lines in socks_list:\n",
    "        if choice == \"5\":\n",
    "            th = threading.Thread(target=checking,args=(lines,5,ms,rlock,))\n",
    "            th.start()\n",
    "        if choice == \"4\":\n",
    "            th = threading.Thread(target=checking,args=(lines,4,ms,rlock,))\n",
    "            th.start()\n",
    "        thread_list.append(th)\n",
    "        time.sleep(0.01)\n",
    "        sys.stdout.write(\"> Checked \"+str(nums)+\" proxies\\r\")\n",
    "        sys.stdout.flush()\n",
    "    for th in list(thread_list):\n",
    "        th.join()\n",
    "        sys.stdout.write(\"> Checked \"+str(nums)+\" proxies\\r\")\n",
    "        sys.stdout.flush()\n",
    "    print(\"\\r\\n> Checked all proxies, Total Worked:\"+str(len(socks_list)))\n",
    "    ans = input(\"> Do u want to save them in a file? (y/n, default=y)\")\n",
    "    if ans == \"y\" or ans == \"\":\n",
    "        if choice == \"4\":\n",
    "            with open(\"socks4.txt\", 'wb') as fp:\n",
    "                for lines in list(proxies):\n",
    "                    fp.write(bytes(lines,encoding='utf8'))\n",
    "            fp.close()\n",
    "            print(\"> They are saved in socks4.txt.\")\n",
    "        elif choice == \"5\":\n",
    "            with open(\"socks5.txt\", 'wb') as fp:\n",
    "                for lines in list(proxies):\n",
    "                    fp.write(bytes(lines,encoding='utf8'))\n",
    "            fp.close()\n",
    "            print(\"> They are saved in socks5.txt.\")"
   ]
  },
  {
   "cell_type": "code",
   "execution_count": 18,
   "metadata": {
    "scrolled": true
   },
   "outputs": [
    {
     "name": "stdout",
     "output_type": "stream",
     "text": [
      "> Checked 417 proxies\n",
      "> Checked all proxies, Total Worked:291\n",
      "> Do u want to save them in a file? (y/n, default=y)y\n"
     ]
    },
    {
     "ename": "NameError",
     "evalue": "name 'proxies' is not defined",
     "output_type": "error",
     "traceback": [
      "\u001b[1;31m---------------------------------------------------------------------------\u001b[0m",
      "\u001b[1;31mNameError\u001b[0m                                 Traceback (most recent call last)",
      "\u001b[1;32m<ipython-input-18-7e6741e9f0f3>\u001b[0m in \u001b[0;36m<module>\u001b[1;34m\u001b[0m\n\u001b[1;32m----> 1\u001b[1;33m \u001b[0mcheck_socks\u001b[0m\u001b[1;33m(\u001b[0m\u001b[1;36m5\u001b[0m\u001b[1;33m)\u001b[0m\u001b[1;33m\u001b[0m\u001b[1;33m\u001b[0m\u001b[0m\n\u001b[0m",
      "\u001b[1;32m<ipython-input-10-4e56706c3b80>\u001b[0m in \u001b[0;36mcheck_socks\u001b[1;34m(ms)\u001b[0m\n\u001b[0;32m     32\u001b[0m         \u001b[1;32melif\u001b[0m \u001b[0mchoice\u001b[0m \u001b[1;33m==\u001b[0m \u001b[1;34m\"5\"\u001b[0m\u001b[1;33m:\u001b[0m\u001b[1;33m\u001b[0m\u001b[1;33m\u001b[0m\u001b[0m\n\u001b[0;32m     33\u001b[0m             \u001b[1;32mwith\u001b[0m \u001b[0mopen\u001b[0m\u001b[1;33m(\u001b[0m\u001b[1;34m\"socks5.txt\"\u001b[0m\u001b[1;33m,\u001b[0m \u001b[1;34m'wb'\u001b[0m\u001b[1;33m)\u001b[0m \u001b[1;32mas\u001b[0m \u001b[0mfp\u001b[0m\u001b[1;33m:\u001b[0m\u001b[1;33m\u001b[0m\u001b[1;33m\u001b[0m\u001b[0m\n\u001b[1;32m---> 34\u001b[1;33m                 \u001b[1;32mfor\u001b[0m \u001b[0mlines\u001b[0m \u001b[1;32min\u001b[0m \u001b[0mlist\u001b[0m\u001b[1;33m(\u001b[0m\u001b[0mproxies\u001b[0m\u001b[1;33m)\u001b[0m\u001b[1;33m:\u001b[0m\u001b[1;33m\u001b[0m\u001b[1;33m\u001b[0m\u001b[0m\n\u001b[0m\u001b[0;32m     35\u001b[0m                     \u001b[0mfp\u001b[0m\u001b[1;33m.\u001b[0m\u001b[0mwrite\u001b[0m\u001b[1;33m(\u001b[0m\u001b[0mbytes\u001b[0m\u001b[1;33m(\u001b[0m\u001b[0mlines\u001b[0m\u001b[1;33m,\u001b[0m\u001b[0mencoding\u001b[0m\u001b[1;33m=\u001b[0m\u001b[1;34m'utf8'\u001b[0m\u001b[1;33m)\u001b[0m\u001b[1;33m)\u001b[0m\u001b[1;33m\u001b[0m\u001b[1;33m\u001b[0m\u001b[0m\n\u001b[0;32m     36\u001b[0m             \u001b[0mfp\u001b[0m\u001b[1;33m.\u001b[0m\u001b[0mclose\u001b[0m\u001b[1;33m(\u001b[0m\u001b[1;33m)\u001b[0m\u001b[1;33m\u001b[0m\u001b[1;33m\u001b[0m\u001b[0m\n",
      "\u001b[1;31mNameError\u001b[0m: name 'proxies' is not defined"
     ]
    }
   ],
   "source": [
    "check_socks(5)"
   ]
  },
  {
   "cell_type": "code",
   "execution_count": 62,
   "metadata": {},
   "outputs": [
    {
     "data": {
      "text/plain": [
       "'4145'"
      ]
     },
     "execution_count": 62,
     "metadata": {},
     "output_type": "execute_result"
    }
   ],
   "source": [
    "socks[0].findAll('td')[1].text"
   ]
  }
 ],
 "metadata": {
  "kernelspec": {
   "display_name": "Python 3",
   "language": "python",
   "name": "python3"
  },
  "language_info": {
   "codemirror_mode": {
    "name": "ipython",
    "version": 3
   },
   "file_extension": ".py",
   "mimetype": "text/x-python",
   "name": "python",
   "nbconvert_exporter": "python",
   "pygments_lexer": "ipython3",
   "version": "3.8.5"
  }
 },
 "nbformat": 4,
 "nbformat_minor": 4
}
