{
 "cells": [
  {
   "cell_type": "code",
   "execution_count": 16,
   "metadata": {},
   "outputs": [],
   "source": [
    "import requests\n",
    "import json\n",
    "from bs4 import BeautifulSoup\n",
    "import re"
   ]
  },
  {
   "cell_type": "code",
   "execution_count": 2,
   "metadata": {},
   "outputs": [],
   "source": [
    "SSL = 'https://www.sslproxies.org/'\n",
    "FREE_PROXY = 'https://free-proxy-list.net/'\n",
    "SPYS_ME = \"https://spys.one/en/socks-proxy-list/\"\n",
    "SPYS_TXT = 'http://spys.me/proxy.txt'\n",
    "PROXYSCRAPE = 'https://api.proxyscrape.com/?request=getproxies&proxytype=all&country=us&ssl=all&anonymity=all'\n",
    "PROXYNOVA = 'https://www.proxynova.com/proxy-server-list/'\n",
    "PROXYLIST_DOWNLOAD_HTTP = 'https://www.proxy-list.download/HTTP'\n",
    "PROXYLIST_DOWNLOAD_HTTPS = 'https://www.proxy-list.download/HTTPS'\n",
    "PROXYLIST_DOWNLOAD_SOCKS4 = 'https://www.proxy-list.download/SOCKS4'\n",
    "PROXYLIST_DOWNLOAD_SOCKS5 = 'https://www.proxy-list.download/SOCKS5'"
   ]
  },
  {
   "cell_type": "code",
   "execution_count": 30,
   "metadata": {},
   "outputs": [
    {
     "data": {
      "text/plain": [
       "['103.13.132.206',\n",
       " '55443',\n",
       " 'BD',\n",
       " 'Bangladesh',\n",
       " 'anonymous',\n",
       " 'no',\n",
       " 'yes',\n",
       " '2 minutes ago']"
      ]
     },
     "execution_count": 30,
     "metadata": {},
     "output_type": "execute_result"
    }
   ],
   "source": [
    "proxy_list[0]"
   ]
  },
  {
   "cell_type": "code",
   "execution_count": 31,
   "metadata": {},
   "outputs": [
    {
     "data": {
      "text/plain": [
       "False"
      ]
     },
     "execution_count": 31,
     "metadata": {},
     "output_type": "execute_result"
    }
   ],
   "source": [
    "(\"anonymous\",\"BD\") in proxy_list[0]"
   ]
  },
  {
   "cell_type": "code",
   "execution_count": 110,
   "metadata": {},
   "outputs": [],
   "source": [
    "def free_proxy(region):\n",
    "    proxy_list = []\n",
    "    \n",
    "    for i in\n",
    "    page  = requests.get(FREE_PROXY)\n",
    "    soup  = BeautifulSoup(page.content, 'html.parser')\n",
    "    table =  soup.find(\"table\", {\"id\": \"proxylisttable\"})\n",
    "    table_body = table.find('tbody')   \n",
    "    \n",
    "    for row in table_body:\n",
    "        cols = row.find_all('td')\n",
    "        cols = [ele.text.strip() for ele in cols]\n",
    "        if region == \"ALL\":    \n",
    "            proxy_list.append([ele for ele in cols if ele])\n",
    "        else:\n",
    "            proxy_list.append([ele for ele in cols if cols[2] == region])\n",
    "  \n",
    "    proxy_list = [x for x in proxy_list if x != []]\n",
    "    proxy_list = [x[0]+\":\"+x[1] for x in proxy_list]\n",
    "    \n",
    "    return proxy_list"
   ]
  },
  {
   "cell_type": "code",
   "execution_count": 108,
   "metadata": {},
   "outputs": [],
   "source": [
    "def ssl_proxy(region):\n",
    "    proxy_list = []\n",
    "    \n",
    "    page  = requests.get(SSL)\n",
    "    soup  = BeautifulSoup(page.content, 'html.parser')\n",
    "    table =  soup.find(\"table\", {\"id\": \"proxylisttable\"})\n",
    "    table_body = table.find('tbody')   \n",
    "    \n",
    "    for row in table_body:\n",
    "        cols = row.find_all('td')\n",
    "        cols = [ele.text.strip() for ele in cols]\n",
    "        if region == \"ALL\":    \n",
    "            proxy_list.append([ele for ele in cols if ele])\n",
    "        else:\n",
    "            proxy_list.append([ele for ele in cols if cols[2] == region])\n",
    "  \n",
    "    proxy_list = [x for x in proxy_list if x != []]\n",
    "    proxy_list = [x[0]+\":\"+x[1] for x in proxy_list]\n",
    "    \n",
    "    return proxy_list"
   ]
  },
  {
   "cell_type": "code",
   "execution_count": 111,
   "metadata": {},
   "outputs": [
    {
     "data": {
      "text/plain": [
       "['54.211.23.200:80',\n",
       " '89.187.177.90:80',\n",
       " '162.214.92.202:80',\n",
       " '13.92.119.142:80',\n",
       " '52.146.35.37:80',\n",
       " '159.65.171.69:80',\n",
       " '40.122.215.129:80',\n",
       " '35.239.155.190:80',\n",
       " '138.91.159.185:80',\n",
       " '69.63.170.74:3128',\n",
       " '185.151.51.115:80',\n",
       " '206.189.181.21:80',\n",
       " '97.73.15.22:87',\n",
       " '208.80.28.208:8080',\n",
       " '69.251.6.180:80',\n",
       " '34.94.174.195:8080',\n",
       " '34.206.72.140:80',\n",
       " '89.187.177.97:80',\n",
       " '89.187.177.95:80',\n",
       " '89.187.177.103:80',\n",
       " '89.187.177.104:80',\n",
       " '89.187.177.100:80',\n",
       " '34.66.105.4:8080',\n",
       " '104.196.34.208:8080',\n",
       " '24.172.34.114:49920',\n",
       " '162.127.140.112:8080',\n",
       " '89.187.177.91:80',\n",
       " '162.223.89.220:8080',\n",
       " '45.82.245.34:3128',\n",
       " '193.122.144.192:80',\n",
       " '89.187.177.86:80',\n",
       " '130.68.124.40:80',\n",
       " '89.187.177.99:80',\n",
       " '209.239.122.200:443',\n",
       " '89.187.177.87:80',\n",
       " '68.94.189.60:80']"
      ]
     },
     "execution_count": 111,
     "metadata": {},
     "output_type": "execute_result"
    }
   ],
   "source": [
    "data = free_proxy(\"US\")\n",
    "data"
   ]
  },
  {
   "cell_type": "code",
   "execution_count": 4,
   "metadata": {},
   "outputs": [],
   "source": [
    "port_mapping = {\n",
    "    \"w3c3a1^a1j0\" : 0,\n",
    "    \"o5g7n4^o5q7\": 1,\n",
    "    \"h8r8p6^y5h8\" : 2,\n",
    "    \"t0h8h8^m3g7\" :3,\n",
    "    \"j0m3u1^x4i9\" : 4,\n",
    "    \"d4s9v2^b2v2\" : 5,\n",
    "    \"p6o5r8^q7u1\" : 6,\n",
    "    \"k1i9j0^w3p6\" : 7,\n",
    "    \"z6u1q7^r8t0\" : 8,\n",
    "    \"n4f6c3^p6w3\" : 9,\n",
    "}"
   ]
  },
  {
   "cell_type": "code",
   "execution_count": 3,
   "metadata": {},
   "outputs": [
    {
     "name": "stdout",
     "output_type": "stream",
     "text": [
      "xx0=52bd9326e3744c0213396b4751561682&xpp=5&xf1=0&xf2=0&xf4=0&xf5=2\n"
     ]
    }
   ],
   "source": [
    "# payload='xx0=963b044e6cbbb283161d218b60a20c04&xpp=5&xf1=0&xf2=0&xf4=0&xf5=2'\n",
    "# payload='xx0=95be299ee5f82819fc5802cec8eac5bd&xpp=5&xf1=0&xf2=0&xf4=0&xf5=2'\n",
    "origin = \"https://spys.one/en/socks-proxy-list/\"\n",
    "headers = {\n",
    "  'Connection': 'keep-alive',\n",
    "  'Pragma': 'no-cache',\n",
    "  'Cache-Control': 'no-cache',\n",
    "  'sec-ch-ua': '\" Not;A Brand\";v=\"99\", \"Google Chrome\";v=\"91\", \"Chromium\";v=\"91\"',\n",
    "  'sec-ch-ua-mobile': '?0',\n",
    "  'Upgrade-Insecure-Requests': '1',\n",
    "  'User-Agent': 'Mozilla/5.0 (Windows NT 10.0; Win64; x64) AppleWebKit/537.36 (KHTML, like Gecko) Chrome/91.0.4472.77 Safari/537.36',\n",
    "  'Origin': 'https://spys.one',\n",
    "  'Content-Type': 'application/x-www-form-urlencoded',\n",
    "  'Accept': 'text/html,application/xhtml+xml,application/xml;q=0.9,image/avif,image/webp,image/apng,*/*;q=0.8,application/signed-exchange;v=b3;q=0.9',\n",
    "  'Sec-Fetch-Site': 'same-origin',\n",
    "  'Sec-Fetch-Mode': 'navigate',\n",
    "  'Sec-Fetch-User': '?1',\n",
    "  'Sec-Fetch-Dest': 'document',\n",
    "  'Referer': 'https://spys.one/en/socks-proxy-list/',\n",
    "  'Accept-Language': 'vi,en-US;q=0.9,en;q=0.8,vi-VN;q=0.7'\n",
    "}\n",
    "\n",
    "preprocess = requests.request(\"POST\", SPYS_ME, headers=headers)\n",
    "presoup = BeautifulSoup(preprocess.text,\"html.parser\")\n",
    "payload = \"xx0=\"+presoup.find(attrs={\"name\" : \"xx0\"})['value'] + \"&xpp=5&xf1=0&xf2=0&xf4=0&xf5=2\"\n",
    "\n",
    "print(payload)\n",
    "spys = requests.request(\"POST\", SPYS_ME, headers=headers, data=payload)\n",
    "soup = BeautifulSoup(spys.text,\"html.parser\")"
   ]
  },
  {
   "cell_type": "code",
   "execution_count": 14,
   "metadata": {},
   "outputs": [
    {
     "data": {
      "text/plain": [
       "<script type=\"text/javascript\">e5c3=8757;l2x4=4886;p6p6=8775;z6w3=5705;k1f6=1981;f6b2=3499;d4k1=5514;x4t0=9826;j0o5=5428;y5i9=7921;k1z6z6=0^e5c3;c3l2a1=1^l2x4;b2h8t0=2^p6p6;l2f6j0=3^z6w3;p6w3q7=4^k1f6;a1t0r8=5^f6b2;s9b2w3=6^d4k1;o5c3u1=7^x4t0;u1u1y5=8^j0o5;j0y5l2=9^y5i9;</script>"
      ]
     },
     "execution_count": 14,
     "metadata": {},
     "output_type": "execute_result"
    }
   ],
   "source": [
    "soup.find('script', type=\"text/javascript\")"
   ]
  },
  {
   "cell_type": "code",
   "execution_count": 102,
   "metadata": {
    "scrolled": true
   },
   "outputs": [
    {
     "data": {
      "text/plain": [
       "['e5c3=8757',\n",
       " 'l2x4=4886',\n",
       " 'p6p6=8775',\n",
       " 'z6w3=5705',\n",
       " 'k1f6=1981',\n",
       " 'f6b2=3499',\n",
       " 'd4k1=5514',\n",
       " 'x4t0=9826',\n",
       " 'j0o5=5428',\n",
       " 'y5i9=7921',\n",
       " 'k1z6z6=0^e5c3',\n",
       " 'c3l2a1=1^l2x4',\n",
       " 'b2h8t0=2^p6p6',\n",
       " 'l2f6j0=3^z6w3',\n",
       " 'p6w3q7=4^k1f6',\n",
       " 'a1t0r8=5^f6b2',\n",
       " 's9b2w3=6^d4k1',\n",
       " 'o5c3u1=7^x4t0',\n",
       " 'u1u1y5=8^j0o5',\n",
       " 'j0y5l2=9^y5i9']"
      ]
     },
     "execution_count": 102,
     "metadata": {},
     "output_type": "execute_result"
    }
   ],
   "source": [
    "method = re.findall('<script type=\"text/javascript\">(.*);</script>',str(soup.find('script', type=\"text/javascript\")))[0].split(\";\")\n",
    "method"
   ]
  },
  {
   "cell_type": "code",
   "execution_count": 115,
   "metadata": {},
   "outputs": [
    {
     "data": {
      "text/plain": [
       "8773"
      ]
     },
     "execution_count": 115,
     "metadata": {},
     "output_type": "execute_result"
    }
   ],
   "source": [
    "2 ^ 8775"
   ]
  },
  {
   "cell_type": "code",
   "execution_count": 117,
   "metadata": {},
   "outputs": [
    {
     "name": "stdout",
     "output_type": "stream",
     "text": [
      "['0', 'e5c3']\n",
      "['1', 'l2x4']\n",
      "['2', 'p6p6']\n",
      "['3', 'z6w3']\n",
      "['4', 'k1f6']\n",
      "['5', 'f6b2']\n",
      "['6', 'd4k1']\n",
      "['7', 'x4t0']\n",
      "['8', 'j0o5']\n",
      "['9', 'y5i9']\n"
     ]
    }
   ],
   "source": [
    "mapping_port = {}\n",
    "for i in method[:10]:\n",
    "    mapping_port[i.split(\"=\")[0]] = int(i.split(\"=\")[1])\n",
    "    \n",
    "for i in method[10:]:\n",
    "    ops = i.split(\"=\")[1].split(\"^\")\n",
    "    print(ops)\n",
    "    mapping_port[i.split(\"=\")[0]] = int(ops[0]) ^ mapping_port[ops[1]]"
   ]
  },
  {
   "cell_type": "code",
   "execution_count": 118,
   "metadata": {},
   "outputs": [
    {
     "data": {
      "text/plain": [
       "{'e5c3': 8757,\n",
       " 'l2x4': 4886,\n",
       " 'p6p6': 8775,\n",
       " 'z6w3': 5705,\n",
       " 'k1f6': 1981,\n",
       " 'f6b2': 3499,\n",
       " 'd4k1': 5514,\n",
       " 'x4t0': 9826,\n",
       " 'j0o5': 5428,\n",
       " 'y5i9': 7921,\n",
       " 'k1z6z6': 8757,\n",
       " 'c3l2a1': 4887,\n",
       " 'b2h8t0': 8773,\n",
       " 'l2f6j0': 5706,\n",
       " 'p6w3q7': 1977,\n",
       " 'a1t0r8': 3502,\n",
       " 's9b2w3': 5516,\n",
       " 'o5c3u1': 9829,\n",
       " 'u1u1y5': 5436,\n",
       " 'j0y5l2': 7928}"
      ]
     },
     "execution_count": 118,
     "metadata": {},
     "output_type": "execute_result"
    }
   ],
   "source": [
    "mapping_port"
   ]
  },
  {
   "cell_type": "code",
   "execution_count": 59,
   "metadata": {},
   "outputs": [
    {
     "data": {
      "text/plain": [
       "4886"
      ]
     },
     "execution_count": 59,
     "metadata": {},
     "output_type": "execute_result"
    }
   ],
   "source": [
    "exec(method[1])\n",
    "l2x4"
   ]
  },
  {
   "cell_type": "code",
   "execution_count": 77,
   "metadata": {},
   "outputs": [
    {
     "data": {
      "text/plain": [
       "0"
      ]
     },
     "execution_count": 77,
     "metadata": {},
     "output_type": "execute_result"
    }
   ],
   "source": [
    "ops = method[10].split(\"=\")[1].split(\"^\")\n",
    "pow(int(ops[0]),mapping_port[ops[1]])"
   ]
  },
  {
   "cell_type": "code",
   "execution_count": 27,
   "metadata": {},
   "outputs": [],
   "source": [
    "exec(method.split(\";\")[0])"
   ]
  },
  {
   "cell_type": "code",
   "execution_count": 29,
   "metadata": {},
   "outputs": [
    {
     "data": {
      "text/plain": [
       "8757"
      ]
     },
     "execution_count": 29,
     "metadata": {},
     "output_type": "execute_result"
    }
   ],
   "source": [
    "e5c3"
   ]
  },
  {
   "cell_type": "code",
   "execution_count": 8,
   "metadata": {},
   "outputs": [
    {
     "data": {
      "text/plain": [
       "<tr class=\"spy1xx\" onmouseout=\"this.style.background='#003333'\" onmouseover=\"this.style.background='#002424'\"><td colspan=\"1\"><font class=\"spy14\">191.96.42.80<script type=\"text/javascript\">document.write(\"<font class=spy2>:<\\/font>\"+(c3l2a1^l2x4)+(k1z6z6^e5c3)+(u1u1y5^j0o5)+(k1z6z6^e5c3))</script></font></td><td colspan=\"1\">SOCKS5</td><td colspan=\"1\"><a href=\"/en/anonymous-proxy-list/\"><font class=\"spy1\">HIA</font></a></td><td colspan=\"1\"><a href=\"/free-proxy-list/US/\"><font class=\"spy14\">United States</font></a> <font class=\"spy1\">(Chicago)</font></td><td colspan=\"1\"><font class=\"spy1\">191.96.42.80</font> <font class=\"spy14\">(Digital Energy Technologies Ltd.)</font></td><td colspan=\"1\"><font class=\"spy1\">0.626</font></td><td colspan=\"1\"><table cellpadding=\"0\" cellspacing=\"0\" height=\"8\" width=\"30\"><tr bgcolor=\"blue\"><td width=\"1\"></td></tr></table></td><td colspan=\"1\"><font class=\"spy1\"><acronym title=\"1252 of 1276 - last check status=OK\">98% <font class=\"spy1\">(1252)</font> <font class=\"spy5\">-</font></acronym></font></td><td colspan=\"1\"><font class=\"spy1\"><font class=\"spy14\">10-jun-2021</font> 10:53 <font class=\"spy5\">(1 hours ago)</font></font></td></tr>"
      ]
     },
     "execution_count": 8,
     "metadata": {},
     "output_type": "execute_result"
    }
   ],
   "source": [
    "soup.findAll(\"tr\",{\"class\":\"spy1xx\"})[0]"
   ]
  },
  {
   "cell_type": "code",
   "execution_count": 32,
   "metadata": {},
   "outputs": [
    {
     "data": {
      "text/plain": [
       "<script type=\"text/javascript\">document.write(\"<font class=spy2>:<\\/font>\"+(c3l2a1^l2x4)+(k1z6z6^e5c3)+(u1u1y5^j0o5)+(k1z6z6^e5c3))</script>"
      ]
     },
     "execution_count": 32,
     "metadata": {},
     "output_type": "execute_result"
    }
   ],
   "source": [
    "test = soup.findAll(\"tr\",{\"class\":\"spy1xx\"})[0].find('script')\n",
    "test"
   ]
  },
  {
   "cell_type": "code",
   "execution_count": 33,
   "metadata": {},
   "outputs": [
    {
     "data": {
      "text/plain": [
       "'(c3l2a1^l2x4)'"
      ]
     },
     "execution_count": 33,
     "metadata": {},
     "output_type": "execute_result"
    }
   ],
   "source": [
    "re.findall(r'\\(.*?\\)',str(test).split(\"<\\/font>\")[1])[0]"
   ]
  },
  {
   "cell_type": "code",
   "execution_count": 121,
   "metadata": {},
   "outputs": [
    {
     "data": {
      "text/plain": [
       "1"
      ]
     },
     "execution_count": 121,
     "metadata": {},
     "output_type": "execute_result"
    }
   ],
   "source": [
    "import re \n",
    "port_char = re.findall(r'font class=spy2>:<\\\\/font>\"\\+(.*)\\)</script>',str(test))[0]\n",
    "# port_char.split(\"+\")\n",
    "char = re.sub(r'[^\\w]', ' ', port_char.split(\"+\")[0])\n",
    "char.split(\" \")\n",
    "mapping_port[char.split(\" \")[1]] ^ mapping_port[char.split(\" \")[2]]\n",
    "# pow(mapping_port[char.split(\" \")[1]],mapping_port[char.split(\" \")[2]])"
   ]
  },
  {
   "cell_type": "code",
   "execution_count": 80,
   "metadata": {},
   "outputs": [],
   "source": [
    "ip =soup.findAll(\"tr\",{\"class\":\"spy1xx\"})[0].find('font',{'class':'spy14'}).text"
   ]
  },
  {
   "cell_type": "code",
   "execution_count": 7,
   "metadata": {},
   "outputs": [
    {
     "data": {
      "text/plain": [
       "250"
      ]
     },
     "execution_count": 7,
     "metadata": {},
     "output_type": "execute_result"
    }
   ],
   "source": [
    "len(soup.findAll(\"tr\",{\"class\":\"spy1xx\"}))"
   ]
  },
  {
   "cell_type": "code",
   "execution_count": 9,
   "metadata": {},
   "outputs": [],
   "source": [
    "import pandas as pd\n",
    "\n",
    "table_MN = pd.read_html(SPYS_ME)"
   ]
  }
 ],
 "metadata": {
  "kernelspec": {
   "display_name": "Python 3",
   "language": "python",
   "name": "python3"
  },
  "language_info": {
   "codemirror_mode": {
    "name": "ipython",
    "version": 3
   },
   "file_extension": ".py",
   "mimetype": "text/x-python",
   "name": "python",
   "nbconvert_exporter": "python",
   "pygments_lexer": "ipython3",
   "version": "3.8.5"
  }
 },
 "nbformat": 4,
 "nbformat_minor": 4
}
